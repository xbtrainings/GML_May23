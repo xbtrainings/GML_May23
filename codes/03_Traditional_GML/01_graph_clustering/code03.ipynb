{
 "cells": [
  {
   "cell_type": "markdown",
   "metadata": {},
   "source": [
    "# Graph Analysis Techniques without Feature Learning\n",
    "\n",
    "# Graph clustering\n",
    "\n",
    "## Lab 3 : Louvain\n",
    "\n",
    "### Xavier Bresson  \n"
   ]
  },
  {
   "cell_type": "code",
   "execution_count": 1,
   "metadata": {},
   "outputs": [],
   "source": [
    "# For Google Colaboratory\n",
    "import sys, os\n",
    "if 'google.colab' in sys.modules:\n",
    "    # mount google drive\n",
    "    from google.colab import drive\n",
    "    drive.mount('/content/gdrive')\n",
    "    path_to_file = '/content/gdrive/My Drive/GML_May23_codes/codes/03_Traditional_GML/01_graph_clustering'\n",
    "    print(path_to_file)\n",
    "    # change current path to the folder containing \"path_to_file\"\n",
    "    os.chdir(path_to_file)\n",
    "    !pwd\n",
    "    !pip install python-louvain==0.15 # install louvain\n",
    "    "
   ]
  },
  {
   "cell_type": "code",
   "execution_count": 2,
   "metadata": {},
   "outputs": [],
   "source": [
    "# Load libraries\n",
    "\n",
    "# Math\n",
    "import numpy as np\n",
    "\n",
    "# Import data\n",
    "import scipy.io\n",
    "\n",
    "# Visualization \n",
    "%matplotlib inline\n",
    "#%matplotlib notebook \n",
    "from matplotlib import pyplot\n",
    "import matplotlib.pyplot as plt\n",
    "plt.rcParams.update({'figure.max_open_warning': 0})\n",
    "import time\n",
    "\n",
    "# Import functions in lib folder\n",
    "import sys\n",
    "sys.path.insert(0, 'lib/')\n",
    "\n",
    "# Import helper functions\n",
    "%load_ext autoreload\n",
    "%autoreload 2\n",
    "from lib.utils import construct_kernel\n",
    "from lib.utils import compute_kernel_kmeans_EM\n",
    "from lib.utils import compute_kernel_kmeans_spectral\n",
    "from lib.utils import compute_purity\n",
    "from lib.utils import construct_knn_graph\n",
    "from lib.utils import compute_ncut\n",
    "from lib.utils import compute_pcut\n",
    "from lib.utils import graph_laplacian\n",
    "\n",
    "# Louvain algorithm\n",
    "import community\n",
    "import networkx as nx\n",
    "\n",
    "# Remove warnings\n",
    "import warnings\n",
    "warnings.filterwarnings(\"ignore\")"
   ]
  },
  {
   "cell_type": "code",
   "execution_count": 3,
   "metadata": {},
   "outputs": [
    {
     "name": "stdout",
     "output_type": "stream",
     "text": [
      "3090 10\n"
     ]
    }
   ],
   "source": [
    "# Load MIREX Music dataset\n",
    "mat = scipy.io.loadmat('datasets/MIREX.mat')\n",
    "W = mat['W']\n",
    "n = W.shape[0]\n",
    "Cgt = mat['Cgt'] - 1; Cgt = Cgt.squeeze()\n",
    "nc = len(np.unique(Cgt))\n",
    "print(n,nc)"
   ]
  },
  {
   "cell_type": "code",
   "execution_count": 4,
   "metadata": {},
   "outputs": [
    {
     "name": "stdout",
     "output_type": "stream",
     "text": [
      "13.624595469255663\n"
     ]
    }
   ],
   "source": [
    "# Baseline accuracy\n",
    "Crand = np.random.randint(0,nc,[n])\n",
    "acc = compute_purity(Crand,Cgt,nc)\n",
    "print(acc)"
   ]
  },
  {
   "cell_type": "code",
   "execution_count": 5,
   "metadata": {},
   "outputs": [
    {
     "name": "stdout",
     "output_type": "stream",
     "text": [
      "39.15857605177994\n"
     ]
    }
   ],
   "source": [
    "Cncut,acc = compute_ncut(W,Cgt,nc) # 39.06\n",
    "print(acc)"
   ]
  },
  {
   "cell_type": "code",
   "execution_count": 6,
   "metadata": {},
   "outputs": [
    {
     "name": "stdout",
     "output_type": "stream",
     "text": [
      "38.543689320388346\n"
     ]
    }
   ],
   "source": [
    "Cpcut,acc = compute_pcut(W,Cgt,nc,1./2,100,False) # 44\n",
    "print(acc)"
   ]
  },
  {
   "cell_type": "code",
   "execution_count": 7,
   "metadata": {},
   "outputs": [
    {
     "name": "stdout",
     "output_type": "stream",
     "text": [
      "nb_data= 3090 , nb_clusters= 280\n",
      "accuracy_louvain= 57.11974110032363  with nb_clusters= 280\n"
     ]
    }
   ],
   "source": [
    "# Run Louvain\n",
    "\n",
    "# Louvain partition, Blondel-et.al, Fast unfolding of communities in large networks, 2008\n",
    "Wnx = nx.from_numpy_array(W.toarray())\n",
    "partition = community.best_partition(Wnx)\n",
    "nc_louvain = len(np.unique( [partition[nodes] for nodes in partition.keys()] ))\n",
    "n = len(Wnx.nodes())\n",
    "print('nb_data=', n , ', nb_clusters=', nc_louvain)\n",
    "\n",
    "# Extract clusters\n",
    "Clouv = np.zeros([n])\n",
    "clusters = []\n",
    "k = 0\n",
    "for com in set(partition.values()):\n",
    "    list_nodes = [nodes for nodes in partition.keys() if partition[nodes] == com]\n",
    "    Clouv[list_nodes] = k\n",
    "    k += 1\n",
    "    clusters.append(list_nodes)\n",
    "    \n",
    "# Accuracy\n",
    "acc = compute_purity(Clouv,Cgt,nc_louvain)\n",
    "print('accuracy_louvain=',acc,' with nb_clusters=',nc_louvain)"
   ]
  },
  {
   "cell_type": "code",
   "execution_count": 8,
   "metadata": {},
   "outputs": [
    {
     "name": "stdout",
     "output_type": "stream",
     "text": [
      "56.8284789644013\n"
     ]
    }
   ],
   "source": [
    "# Run NCut with nc_louvain classes\n",
    "Cncut,acc = compute_ncut(W,Cgt,nc_louvain) #\n",
    "print(acc)"
   ]
  },
  {
   "cell_type": "code",
   "execution_count": 9,
   "metadata": {},
   "outputs": [
    {
     "name": "stdout",
     "output_type": "stream",
     "text": [
      "9298 10\n"
     ]
    }
   ],
   "source": [
    "# Load USPS Music dataset\n",
    "mat = scipy.io.loadmat('datasets/USPS.mat')\n",
    "W = mat['W']\n",
    "n = W.shape[0]\n",
    "Cgt = mat['Cgt'] - 1; Cgt = Cgt.squeeze()\n",
    "nc = len(np.unique(Cgt))\n",
    "print(n,nc)"
   ]
  },
  {
   "cell_type": "code",
   "execution_count": 10,
   "metadata": {},
   "outputs": [
    {
     "name": "stdout",
     "output_type": "stream",
     "text": [
      "16.702516670251665\n",
      "73.52118735211873\n"
     ]
    }
   ],
   "source": [
    "# Baseline accuracy\n",
    "Crand = np.random.randint(0,nc,[n])\n",
    "acc = compute_purity(Crand,Cgt,nc)\n",
    "print(acc)\n",
    "\n",
    "# Run NCut\n",
    "Cncut,acc = compute_ncut(W,Cgt,nc) \n",
    "print(acc)"
   ]
  },
  {
   "cell_type": "code",
   "execution_count": 11,
   "metadata": {},
   "outputs": [
    {
     "name": "stdout",
     "output_type": "stream",
     "text": [
      "nb_data: 9298 , nb_clusters= 16\n",
      "accuracy_louvain= 95.80554958055497  with nb_clusters= 16\n"
     ]
    }
   ],
   "source": [
    "# Run Louvain\n",
    "\n",
    "# Louvain partition, Blondel-et.al, Fast unfolding of communities in large networks, 2008\n",
    "Wnx = nx.from_numpy_array(W.toarray())\n",
    "partition = community.best_partition(Wnx)\n",
    "nc_louvain = len(np.unique( [partition[nodes] for nodes in partition.keys()] ))\n",
    "n = len(Wnx.nodes())\n",
    "print('nb_data:', n , ', nb_clusters=', nc_louvain)\n",
    "\n",
    "# Extract clusters\n",
    "Clouv = np.zeros([n])\n",
    "clusters = []\n",
    "k = 0\n",
    "for com in set(partition.values()):\n",
    "    list_nodes = [nodes for nodes in partition.keys() if partition[nodes] == com]\n",
    "    Clouv[list_nodes] = k\n",
    "    k += 1\n",
    "    clusters.append(list_nodes)\n",
    "    \n",
    "# Accuracy\n",
    "acc = compute_purity(Clouv,Cgt,nc_louvain)\n",
    "print('accuracy_louvain=',acc,' with nb_clusters=',nc_louvain)"
   ]
  },
  {
   "cell_type": "code",
   "execution_count": 12,
   "metadata": {
    "scrolled": true
   },
   "outputs": [
    {
     "name": "stdout",
     "output_type": "stream",
     "text": [
      "94.16003441600344\n"
     ]
    }
   ],
   "source": [
    "# Run NCut\n",
    "Cncut,acc = compute_ncut(W,Cgt,nc_louvain)\n",
    "print(acc)"
   ]
  },
  {
   "cell_type": "code",
   "execution_count": null,
   "metadata": {},
   "outputs": [],
   "source": []
  }
 ],
 "metadata": {
  "kernelspec": {
   "display_name": "Python 3 (ipykernel)",
   "language": "python",
   "name": "python3"
  },
  "language_info": {
   "codemirror_mode": {
    "name": "ipython",
    "version": 3
   },
   "file_extension": ".py",
   "mimetype": "text/x-python",
   "name": "python",
   "nbconvert_exporter": "python",
   "pygments_lexer": "ipython3",
   "version": "3.8.16"
  }
 },
 "nbformat": 4,
 "nbformat_minor": 1
}
