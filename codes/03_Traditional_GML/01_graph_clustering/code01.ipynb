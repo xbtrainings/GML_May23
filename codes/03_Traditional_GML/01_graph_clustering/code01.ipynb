{
 "cells": [
  {
   "cell_type": "markdown",
   "metadata": {},
   "source": [
    "# Graph Analysis Techniques without Feature Learning\n",
    "\n",
    "# Graph clustering\n",
    "\n",
    "## Lab 1 : Graclus/Metis\n",
    "\n",
    "### Xavier Bresson\n"
   ]
  },
  {
   "cell_type": "code",
   "execution_count": 1,
   "metadata": {},
   "outputs": [],
   "source": [
    "# For Google Colaboratory\n",
    "import sys, os\n",
    "if 'google.colab' in sys.modules:\n",
    "    # mount google drive\n",
    "    from google.colab import drive\n",
    "    drive.mount('/content/gdrive')\n",
    "    path_to_file = '/content/gdrive/My Drive/GML_May23_codes/codes/03_Traditional_GML/01_graph_clustering'\n",
    "    print(path_to_file)\n",
    "    # change current path to the folder containing \"path_to_file\"\n",
    "    os.chdir(path_to_file)\n",
    "    !pwd\n",
    "    !pip install pymetis # install metis \n",
    "    "
   ]
  },
  {
   "cell_type": "code",
   "execution_count": 2,
   "metadata": {},
   "outputs": [],
   "source": [
    "# Load libraries\n",
    "\n",
    "# Math\n",
    "import numpy as np\n",
    "\n",
    "# Import data\n",
    "import scipy.io\n",
    "\n",
    "# Visualization \n",
    "%matplotlib inline\n",
    "#%matplotlib notebook \n",
    "from matplotlib import pyplot\n",
    "import matplotlib.pyplot as plt\n",
    "plt.rcParams.update({'figure.max_open_warning': 0})\n",
    "import time\n",
    "\n",
    "# Import functions in lib folder\n",
    "import sys\n",
    "sys.path.insert(0, 'lib/')\n",
    "\n",
    "# Import helper functions\n",
    "%load_ext autoreload\n",
    "%autoreload 2\n",
    "from lib.utils import compute_purity\n",
    "\n",
    "# Graclus algorithm\n",
    "from scipy.sparse import csr_matrix, find\n",
    "import pymetis\n",
    "\n",
    "# PCut algorithm\n",
    "from lib.utils import compute_pcut\n",
    "\n",
    "# Remove warnings\n",
    "import warnings\n",
    "warnings.filterwarnings(\"ignore\")"
   ]
  },
  {
   "cell_type": "code",
   "execution_count": 3,
   "metadata": {},
   "outputs": [
    {
     "name": "stdout",
     "output_type": "stream",
     "text": [
      "9298 10\n"
     ]
    }
   ],
   "source": [
    "# Load USPS Music dataset\n",
    "mat = scipy.io.loadmat('datasets/USPS.mat')\n",
    "W = mat['W']\n",
    "n = W.shape[0]\n",
    "Cgt = mat['Cgt'] - 1; Cgt = Cgt.squeeze()\n",
    "nc = len(np.unique(Cgt))\n",
    "print(n,nc)\n",
    "#print(W-W.T)"
   ]
  },
  {
   "cell_type": "code",
   "execution_count": 4,
   "metadata": {},
   "outputs": [
    {
     "name": "stdout",
     "output_type": "stream",
     "text": [
      "9298\n"
     ]
    }
   ],
   "source": [
    "# https://github.com/inducer/pymetis/blob/master/pymetis/__init__.py\n",
    "# Convert toGraclus data format \n",
    "Wcsr = csr_matrix(W, dtype=W.dtype)\n",
    "W_graclus = []\n",
    "for i in range(W.shape[0]):\n",
    "    _,nn,_ = find(Wcsr[i,:])\n",
    "    W_graclus.append(nn)\n",
    "print(len(W_graclus))"
   ]
  },
  {
   "cell_type": "code",
   "execution_count": 5,
   "metadata": {},
   "outputs": [
    {
     "name": "stdout",
     "output_type": "stream",
     "text": [
      "Accuracy graclus= 79.17831791783179\n"
     ]
    }
   ],
   "source": [
    "# Run Graclus\n",
    "_,part_vert = pymetis.part_graph(nc, adjacency=W_graclus)\n",
    "C_graclus = np.array(part_vert,dtype='int32')\n",
    "acc = compute_purity(C_graclus,Cgt,nc)\n",
    "print('Accuracy graclus=',acc)"
   ]
  },
  {
   "cell_type": "code",
   "execution_count": null,
   "metadata": {},
   "outputs": [],
   "source": []
  },
  {
   "cell_type": "code",
   "execution_count": 6,
   "metadata": {},
   "outputs": [
    {
     "name": "stdout",
     "output_type": "stream",
     "text": [
      "3090 10\n"
     ]
    }
   ],
   "source": [
    "import scipy.io\n",
    "# Load MIREX Music dataset\n",
    "mat = scipy.io.loadmat('datasets/MIREX.mat')\n",
    "W = mat['W']\n",
    "n = W.shape[0]\n",
    "Cgt = mat['Cgt'] - 1; Cgt = Cgt.squeeze()\n",
    "nc = len(np.unique(Cgt))\n",
    "print(n,nc)"
   ]
  },
  {
   "cell_type": "code",
   "execution_count": 7,
   "metadata": {},
   "outputs": [
    {
     "name": "stdout",
     "output_type": "stream",
     "text": [
      "3090\n",
      "Accuracy graclus= 36.73139158576052\n"
     ]
    }
   ],
   "source": [
    "# https://github.com/inducer/pymetis/blob/master/pymetis/__init__.py\n",
    "# Convert toGraclus data format \n",
    "Wcsr = csr_matrix(W, dtype=W.dtype)\n",
    "W_graclus = []\n",
    "for i in range(W.shape[0]):\n",
    "    _,nn,_ = find(Wcsr[i,:])\n",
    "    W_graclus.append(nn)\n",
    "print(len(W_graclus))\n",
    "\n",
    "# Run Graclus\n",
    "_,part_vert = pymetis.part_graph(nc, adjacency=W_graclus)\n",
    "C_graclus = np.array(part_vert,dtype='int32')\n",
    "acc = compute_purity(C_graclus,Cgt,nc)\n",
    "print('Accuracy graclus=',acc)\n"
   ]
  },
  {
   "cell_type": "code",
   "execution_count": null,
   "metadata": {},
   "outputs": [],
   "source": []
  }
 ],
 "metadata": {
  "kernelspec": {
   "display_name": "Python 3 (ipykernel)",
   "language": "python",
   "name": "python3"
  },
  "language_info": {
   "codemirror_mode": {
    "name": "ipython",
    "version": 3
   },
   "file_extension": ".py",
   "mimetype": "text/x-python",
   "name": "python",
   "nbconvert_exporter": "python",
   "pygments_lexer": "ipython3",
   "version": "3.8.16"
  }
 },
 "nbformat": 4,
 "nbformat_minor": 1
}
