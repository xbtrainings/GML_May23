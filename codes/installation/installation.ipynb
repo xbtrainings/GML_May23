{
 "cells": [
  {
   "cell_type": "markdown",
   "metadata": {},
   "source": [
    "# Installation Instructions"
   ]
  },
  {
   "cell_type": "code",
   "execution_count": null,
   "metadata": {},
   "outputs": [],
   "source": [
    "# Git pull the codes from github to your colab machine\n",
    "# You will have this message:\n",
    "    # Warning: This notebook was not authored by Google.\n",
    "        # Click RUN ANYWAY\n",
    "!git clone https://github.com/xbtrainings/GML_May23.git"
   ]
  },
  {
   "cell_type": "code",
   "execution_count": null,
   "metadata": {},
   "outputs": [],
   "source": [
    "# Mount Google Drive to the colab machine\n",
    "# You will have this message:\n",
    "    # Go to this URL in a browser: ---\n",
    "        # Follow the URL, sign-in to Google login\n",
    "        # ALLOW google drive to access to your google account \n",
    "        # Copy-paste the code to the notebook\n",
    "            # Enter your authorization code: ---\n",
    "from google.colab import drive\n",
    "drive.mount('/content/gdrive')\n",
    "\n",
    "# Copy github folder from colab machine to your google drive\n",
    "!cp -R /content/GML_May23 /content/gdrive/My\\ Drive/GML_May23_codes\n",
    "!rm -R /content/GML_May23"
   ]
  },
  {
   "cell_type": "code",
   "execution_count": null,
   "metadata": {},
   "outputs": [],
   "source": [
    "# Installation is done.\n",
    "# You can close this notebook."
   ]
  }
 ],
 "metadata": {
  "kernelspec": {
   "display_name": "Python 3",
   "language": "python",
   "name": "python3"
  },
  "language_info": {
   "codemirror_mode": {
    "name": "ipython",
    "version": 3
   },
   "file_extension": ".py",
   "mimetype": "text/x-python",
   "name": "python",
   "nbconvert_exporter": "python",
   "pygments_lexer": "ipython3",
   "version": "3.7.4"
  }
 },
 "nbformat": 4,
 "nbformat_minor": 2
}
