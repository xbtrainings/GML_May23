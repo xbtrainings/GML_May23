{
 "cells": [
  {
   "cell_type": "markdown",
   "metadata": {},
   "source": [
    "# Lab 02 : Loading graph datasets from DGL, PyG and OGB - demo\n",
    "\n",
    "### Xavier Bresson   \n"
   ]
  },
  {
   "cell_type": "code",
   "execution_count": 1,
   "metadata": {},
   "outputs": [],
   "source": [
    "# For Google Colaboratory  \n",
    "import sys, os\n",
    "if 'google.colab' in sys.modules:\n",
    "    # mount google drive\n",
    "    from google.colab import drive\n",
    "    drive.mount('/content/gdrive')\n",
    "    path_to_file = '/content/gdrive/My Drive/GML_May23_codes/codes/08_Datasets'\n",
    "    print(path_to_file)\n",
    "    # change current path to the folder containing \"path_to_file\"\n",
    "    os.chdir(path_to_file)\n",
    "    !pwd\n",
    "    !pip install dgl # Install DGL\n",
    "    !pip install torch_geometric # Install PyG\n",
    "    !pip install ogb # Install OGB"
   ]
  },
  {
   "cell_type": "markdown",
   "metadata": {},
   "source": [
    "## 1. DGL datasets\n",
    "\n",
    "https://docs.dgl.ai/api/python/dgl.data.html "
   ]
  },
  {
   "cell_type": "code",
   "execution_count": 2,
   "metadata": {},
   "outputs": [
    {
     "name": "stdout",
     "output_type": "stream",
     "text": [
      "  NumNodes: 2708\n",
      "  NumEdges: 10556\n",
      "  NumFeats: 1433\n",
      "  NumClasses: 7\n",
      "  NumTrainingSamples: 140\n",
      "  NumValidationSamples: 500\n",
      "  NumTestSamples: 1000\n",
      "Done loading data from cached files.\n",
      "Graph(num_nodes=2708, num_edges=10556,\n",
      "      ndata_schemes={'feat': Scheme(shape=(1433,), dtype=torch.float32), 'label': Scheme(shape=(), dtype=torch.int64), 'val_mask': Scheme(shape=(), dtype=torch.bool), 'test_mask': Scheme(shape=(), dtype=torch.bool), 'train_mask': Scheme(shape=(), dtype=torch.bool)}\n",
      "      edata_schemes={})\n",
      "torch.Size([2708, 1433])\n",
      "torch.Size([2708])\n"
     ]
    }
   ],
   "source": [
    "from dgl.data import CoraGraphDataset\n",
    "dataset = CoraGraphDataset()\n",
    "g = dataset[0]\n",
    "print(g)\n",
    "num_class = dataset.num_classes\n",
    "# get node feature\n",
    "print(g.ndata['feat'].size())\n",
    "# get data split\n",
    "train_mask = g.ndata['train_mask']\n",
    "val_mask = g.ndata['val_mask']\n",
    "test_mask = g.ndata['test_mask']\n",
    "# get labels\n",
    "print(g.ndata['label'].size())\n"
   ]
  },
  {
   "cell_type": "code",
   "execution_count": 3,
   "metadata": {},
   "outputs": [
    {
     "name": "stdout",
     "output_type": "stream",
     "text": [
      "2\n",
      "Graph(num_nodes=5, num_edges=20,\n",
      "      ndata_schemes={'R': Scheme(shape=(3,), dtype=torch.float32), 'Z': Scheme(shape=(), dtype=torch.int64)}\n",
      "      edata_schemes={})\n",
      "torch.Size([2])\n",
      "torch.Size([5, 3])\n",
      "torch.Size([5])\n"
     ]
    }
   ],
   "source": [
    "from dgl.data import QM9Dataset\n",
    "data = QM9Dataset(label_keys=['mu', 'gap'], cutoff=5.0)\n",
    "print(data.num_tasks)\n",
    "g, label = data[0]\n",
    "print(g)\n",
    "print(label.size())\n",
    "print(g.ndata['R'].size()) # get coordinates of each atom\n",
    "print(g.ndata['Z'].size()) # get atomic numbers of each atom\n",
    "      "
   ]
  },
  {
   "cell_type": "code",
   "execution_count": null,
   "metadata": {},
   "outputs": [],
   "source": []
  },
  {
   "cell_type": "markdown",
   "metadata": {},
   "source": [
    "## 2. PyG datasets\n",
    "\n",
    "https://pytorch-geometric.readthedocs.io/en/latest/modules/datasets.html "
   ]
  },
  {
   "cell_type": "code",
   "execution_count": 4,
   "metadata": {},
   "outputs": [
    {
     "name": "stderr",
     "output_type": "stream",
     "text": [
      "Downloading https://raw.githubusercontent.com/MichSchli/RelationPrediction/master/data/FB-Toutanova/entities.dict\n",
      "Downloading https://raw.githubusercontent.com/MichSchli/RelationPrediction/master/data/FB-Toutanova/relations.dict\n",
      "Downloading https://raw.githubusercontent.com/MichSchli/RelationPrediction/master/data/FB-Toutanova/test.txt\n",
      "Downloading https://raw.githubusercontent.com/MichSchli/RelationPrediction/master/data/FB-Toutanova/train.txt\n",
      "Downloading https://raw.githubusercontent.com/MichSchli/RelationPrediction/master/data/FB-Toutanova/valid.txt\n",
      "Processing...\n"
     ]
    },
    {
     "name": "stdout",
     "output_type": "stream",
     "text": [
      "Number of nodes: 14541\n",
      "Number of edges: 544230\n",
      "Number of node features: 0\n",
      "Number of edge features: 0\n",
      "Number of classes: 0\n",
      "Number of relations: 237\n",
      "Data(edge_index=[2, 544230], num_nodes=14541, edge_type=[544230], train_edge_index=[2, 272115], train_edge_type=[272115], valid_edge_index=[2, 17535], valid_edge_type=[17535], test_edge_index=[2, 20466], test_edge_type=[20466])\n"
     ]
    },
    {
     "name": "stderr",
     "output_type": "stream",
     "text": [
      "Done!\n"
     ]
    }
   ],
   "source": [
    "from torch_geometric.datasets import RelLinkPredDataset\n",
    "dataset = RelLinkPredDataset(root='./', name='FB15k-237')\n",
    "data = dataset[0]\n",
    "print(f'Number of nodes: {data.num_nodes}')\n",
    "print(f'Number of edges: {data.num_edges}')\n",
    "print(f'Number of node features: {data.num_node_features}')\n",
    "print(f'Number of edge features: {data.num_edge_features}')\n",
    "print(f'Number of classes: {dataset.num_classes}')\n",
    "print(f'Number of relations: {dataset.num_relations// 2}')\n",
    "print(data)\n"
   ]
  },
  {
   "cell_type": "code",
   "execution_count": 5,
   "metadata": {},
   "outputs": [
    {
     "name": "stderr",
     "output_type": "stream",
     "text": [
      "/Users/xbresson/miniconda3/envs/gnn_course_apr23/lib/python3.8/site-packages/torch_geometric/datasets/wikics.py:38: UserWarning: The WikiCS dataset now returns an undirected graph by default. Please explicitly specify 'is_undirected=False' to restore the old behavior.\n",
      "  warnings.warn(\n",
      "Downloading https://github.com/pmernyei/wiki-cs-dataset/raw/master/dataset/data.json\n",
      "Processing...\n"
     ]
    },
    {
     "name": "stdout",
     "output_type": "stream",
     "text": [
      "Number of nodes: 11701\n",
      "Number of edges: 431726\n",
      "Number of node features: 300\n",
      "Number of edge features: 0\n",
      "Number of classes: 10\n",
      "Data(x=[11701, 300], edge_index=[2, 431726], y=[11701], train_mask=[11701, 20], val_mask=[11701, 20], test_mask=[11701], stopping_mask=[11701, 20])\n"
     ]
    },
    {
     "name": "stderr",
     "output_type": "stream",
     "text": [
      "Done!\n"
     ]
    }
   ],
   "source": [
    "from torch_geometric.datasets import WikiCS\n",
    "dataset = WikiCS(root='./')\n",
    "data = dataset[0]\n",
    "print(f'Number of nodes: {data.num_nodes}')\n",
    "print(f'Number of edges: {data.num_edges}')\n",
    "print(f'Number of node features: {data.num_node_features}')\n",
    "print(f'Number of edge features: {data.num_edge_features}')\n",
    "print(f'Number of classes: {dataset.num_classes}')\n",
    "print(data)\n"
   ]
  },
  {
   "cell_type": "code",
   "execution_count": null,
   "metadata": {},
   "outputs": [],
   "source": []
  },
  {
   "cell_type": "markdown",
   "metadata": {},
   "source": [
    "## 3. OGB datasets\n",
    "\n",
    "https://ogb.stanford.edu \n"
   ]
  },
  {
   "cell_type": "code",
   "execution_count": 1,
   "metadata": {},
   "outputs": [
    {
     "name": "stdout",
     "output_type": "stream",
     "text": [
      "Downloading http://snap.stanford.edu/ogb/data/graphproppred/csv_mol_download/hiv.zip\n"
     ]
    },
    {
     "name": "stderr",
     "output_type": "stream",
     "text": [
      "Downloaded 0.00 GB: 100%|██████████████████████████████████████████████████████████████████████████████████████████████████████████████████████████████████| 3/3 [00:02<00:00,  1.19it/s]\n"
     ]
    },
    {
     "name": "stdout",
     "output_type": "stream",
     "text": [
      "Extracting dataset/hiv.zip\n",
      "Loading necessary files...\n",
      "This might take a while.\n",
      "Processing graphs...\n"
     ]
    },
    {
     "name": "stderr",
     "output_type": "stream",
     "text": [
      "100%|███████████████████████████████████████████████████████████████████████████████████████████████████████████████████████████████████████████| 41127/41127 [00:00<00:00, 44696.55it/s]\n"
     ]
    },
    {
     "name": "stdout",
     "output_type": "stream",
     "text": [
      "Converting graphs into DGL objects...\n"
     ]
    },
    {
     "name": "stderr",
     "output_type": "stream",
     "text": [
      "100%|████████████████████████████████████████████████████████████████████████████████████████████████████████████████████████████████████████████| 41127/41127 [00:08<00:00, 5063.57it/s]\n"
     ]
    },
    {
     "name": "stdout",
     "output_type": "stream",
     "text": [
      "Saving...\n",
      "DglGraphPropPredDataset(41127)\n",
      "Loading necessary files...\n",
      "This might take a while.\n"
     ]
    },
    {
     "name": "stderr",
     "output_type": "stream",
     "text": [
      "Processing...\n"
     ]
    },
    {
     "name": "stdout",
     "output_type": "stream",
     "text": [
      "Processing graphs...\n"
     ]
    },
    {
     "name": "stderr",
     "output_type": "stream",
     "text": [
      "100%|███████████████████████████████████████████████████████████████████████████████████████████████████████████████████████████████████████████| 41127/41127 [00:00<00:00, 89816.36it/s]\n"
     ]
    },
    {
     "name": "stdout",
     "output_type": "stream",
     "text": [
      "Converting graphs into PyG objects...\n"
     ]
    },
    {
     "name": "stderr",
     "output_type": "stream",
     "text": [
      "100%|███████████████████████████████████████████████████████████████████████████████████████████████████████████████████████████████████████████| 41127/41127 [00:01<00:00, 28148.24it/s]\n"
     ]
    },
    {
     "name": "stdout",
     "output_type": "stream",
     "text": [
      "Saving...\n"
     ]
    },
    {
     "name": "stderr",
     "output_type": "stream",
     "text": [
      "Done!\n",
      "/Users/xbresson/miniconda3/envs/gnn_course_apr23/lib/python3.8/site-packages/torch_geometric/deprecation.py:22: UserWarning: 'data.DataLoader' is deprecated, use 'loader.DataLoader' instead\n",
      "  warnings.warn(out)\n"
     ]
    },
    {
     "name": "stdout",
     "output_type": "stream",
     "text": [
      "PygGraphPropPredDataset(41127)\n"
     ]
    }
   ],
   "source": [
    "# DGL Loader\n",
    "from ogb.graphproppred import DglGraphPropPredDataset, collate_dgl\n",
    "from torch.utils.data import DataLoader\n",
    "dataset = DglGraphPropPredDataset(name = 'ogbg-molhiv')\n",
    "print(dataset)\n",
    "split_idx = dataset.get_idx_split()\n",
    "train_loader = DataLoader(dataset[split_idx[\"train\"]], batch_size=32, shuffle=True, collate_fn=collate_dgl)\n",
    "valid_loader = DataLoader(dataset[split_idx[\"valid\"]], batch_size=32, shuffle=False, collate_fn=collate_dgl)\n",
    "test_loader = DataLoader(dataset[split_idx[\"test\"]], batch_size=32, shuffle=False, collate_fn=collate_dgl)\n",
    "\n",
    "# Pytorch Geometric Loader\n",
    "from ogb.graphproppred import PygGraphPropPredDataset\n",
    "from torch_geometric.data import DataLoader\n",
    "dataset = PygGraphPropPredDataset(name = 'ogbg-molhiv') \n",
    "print(dataset)\n",
    "split_idx = dataset.get_idx_split() \n",
    "train_loader = DataLoader(dataset[split_idx[\"train\"]], batch_size=32, shuffle=True)\n",
    "valid_loader = DataLoader(dataset[split_idx[\"valid\"]], batch_size=32, shuffle=False)\n",
    "test_loader = DataLoader(dataset[split_idx[\"test\"]], batch_size=32, shuffle=False)\n"
   ]
  },
  {
   "cell_type": "code",
   "execution_count": 2,
   "metadata": {
    "scrolled": false
   },
   "outputs": [
    {
     "name": "stdout",
     "output_type": "stream",
     "text": [
      "Downloading http://snap.stanford.edu/ogb/data/linkproppred/biokg.zip\n"
     ]
    },
    {
     "name": "stderr",
     "output_type": "stream",
     "text": [
      "Downloaded 0.90 GB: 100%|██████████████████████████████████████████████████████████████████████████████████████████████████████████████████████████████| 920/920 [01:57<00:00,  7.85it/s]\n"
     ]
    },
    {
     "name": "stdout",
     "output_type": "stream",
     "text": [
      "Extracting dataset/biokg.zip\n",
      "Loading necessary files...\n",
      "This might take a while.\n",
      "Processing graphs...\n"
     ]
    },
    {
     "name": "stderr",
     "output_type": "stream",
     "text": [
      "100%|████████████████████████████████████████████████████████████████████████████████████████████████████████████████████████████████████████████████████| 1/1 [00:00<00:00, 3998.38it/s]\n"
     ]
    },
    {
     "name": "stdout",
     "output_type": "stream",
     "text": [
      "Converting graphs into DGL objects...\n"
     ]
    },
    {
     "name": "stderr",
     "output_type": "stream",
     "text": [
      "100%|██████████████████████████████████████████████████████████████████████████████████████████████████████████████████████████████████████████████████████| 1/1 [00:10<00:00, 10.99s/it]\n"
     ]
    },
    {
     "name": "stdout",
     "output_type": "stream",
     "text": [
      "Saving...\n",
      "Graph(num_nodes={'disease': 10687, 'drug': 10533, 'function': 45085, 'protein': 17499, 'sideeffect': 9969},\n",
      "      num_edges={('disease', 'disease-protein', 'protein'): 73547, ('drug', 'drug-disease', 'disease'): 5147, ('drug', 'drug-drug_acquired_metabolic_disease', 'drug'): 63430, ('drug', 'drug-drug_bacterial_infectious_disease', 'drug'): 18554, ('drug', 'drug-drug_benign_neoplasm', 'drug'): 30348, ('drug', 'drug-drug_cancer', 'drug'): 48514, ('drug', 'drug-drug_cardiovascular_system_disease', 'drug'): 94842, ('drug', 'drug-drug_chromosomal_disease', 'drug'): 316, ('drug', 'drug-drug_cognitive_disorder', 'drug'): 34660, ('drug', 'drug-drug_cryptorchidism', 'drug'): 128, ('drug', 'drug-drug_developmental_disorder_of_mental_health', 'drug'): 14314, ('drug', 'drug-drug_endocrine_system_disease', 'drug'): 55994, ('drug', 'drug-drug_fungal_infectious_disease', 'drug'): 36114, ('drug', 'drug-drug_gastrointestinal_system_disease', 'drug'): 83210, ('drug', 'drug-drug_hematopoietic_system_disease', 'drug'): 79202, ('drug', 'drug-drug_hematopoietic_system_diseases', 'drug'): 3006, ('drug', 'drug-drug_hypospadias', 'drug'): 292, ('drug', 'drug-drug_immune_system_disease', 'drug'): 34242, ('drug', 'drug-drug_inherited_metabolic_disorder', 'drug'): 36492, ('drug', 'drug-drug_integumentary_system_disease', 'drug'): 73902, ('drug', 'drug-drug_irritable_bowel_syndrome', 'drug'): 8528, ('drug', 'drug-drug_monogenic_disease', 'drug'): 600, ('drug', 'drug-drug_musculoskeletal_system_disease', 'drug'): 57926, ('drug', 'drug-drug_nervous_system_disease', 'drug'): 80208, ('drug', 'drug-drug_orofacial_cleft', 'drug'): 380, ('drug', 'drug-drug_parasitic_infectious_disease', 'drug'): 1680, ('drug', 'drug-drug_personality_disorder', 'drug'): 972, ('drug', 'drug-drug_polycystic_ovary_syndrome', 'drug'): 514, ('drug', 'drug-drug_pre-malignant_neoplasm', 'drug'): 3224, ('drug', 'drug-drug_psoriatic_arthritis', 'drug'): 2014, ('drug', 'drug-drug_reproductive_system_disease', 'drug'): 17006, ('drug', 'drug-drug_respiratory_system_disease', 'drug'): 82168, ('drug', 'drug-drug_sexual_disorder', 'drug'): 1260, ('drug', 'drug-drug_sleep_disorder', 'drug'): 25860, ('drug', 'drug-drug_somatoform_disorder', 'drug'): 2214, ('drug', 'drug-drug_struct_sim', 'drug'): 26348, ('drug', 'drug-drug_substance-related_disorder', 'drug'): 4392, ('drug', 'drug-drug_thoracic_disease', 'drug'): 4660, ('drug', 'drug-drug_urinary_system_disease', 'drug'): 67326, ('drug', 'drug-drug_viral_infectious_disease', 'drug'): 38846, ('drug', 'drug-protein', 'protein'): 117930, ('drug', 'drug-sideeffect', 'sideeffect'): 157479, ('function', 'function-function', 'function'): 1433230, ('protein', 'protein-function', 'function'): 777577, ('protein', 'protein-protein_activation', 'protein'): 73044, ('protein', 'protein-protein_binding', 'protein'): 292254, ('protein', 'protein-protein_catalysis', 'protein'): 303434, ('protein', 'protein-protein_expression', 'protein'): 1952, ('protein', 'protein-protein_inhibition', 'protein'): 25732, ('protein', 'protein-protein_ptmod', 'protein'): 15120, ('protein', 'protein-protein_reaction', 'protein'): 352546},\n",
      "      metagraph=[('disease', 'protein', 'disease-protein'), ('protein', 'function', 'protein-function'), ('protein', 'protein', 'protein-protein_activation'), ('protein', 'protein', 'protein-protein_binding'), ('protein', 'protein', 'protein-protein_catalysis'), ('protein', 'protein', 'protein-protein_expression'), ('protein', 'protein', 'protein-protein_inhibition'), ('protein', 'protein', 'protein-protein_ptmod'), ('protein', 'protein', 'protein-protein_reaction'), ('drug', 'disease', 'drug-disease'), ('drug', 'drug', 'drug-drug_acquired_metabolic_disease'), ('drug', 'drug', 'drug-drug_bacterial_infectious_disease'), ('drug', 'drug', 'drug-drug_benign_neoplasm'), ('drug', 'drug', 'drug-drug_cancer'), ('drug', 'drug', 'drug-drug_cardiovascular_system_disease'), ('drug', 'drug', 'drug-drug_chromosomal_disease'), ('drug', 'drug', 'drug-drug_cognitive_disorder'), ('drug', 'drug', 'drug-drug_cryptorchidism'), ('drug', 'drug', 'drug-drug_developmental_disorder_of_mental_health'), ('drug', 'drug', 'drug-drug_endocrine_system_disease'), ('drug', 'drug', 'drug-drug_fungal_infectious_disease'), ('drug', 'drug', 'drug-drug_gastrointestinal_system_disease'), ('drug', 'drug', 'drug-drug_hematopoietic_system_disease'), ('drug', 'drug', 'drug-drug_hematopoietic_system_diseases'), ('drug', 'drug', 'drug-drug_hypospadias'), ('drug', 'drug', 'drug-drug_immune_system_disease'), ('drug', 'drug', 'drug-drug_inherited_metabolic_disorder'), ('drug', 'drug', 'drug-drug_integumentary_system_disease'), ('drug', 'drug', 'drug-drug_irritable_bowel_syndrome'), ('drug', 'drug', 'drug-drug_monogenic_disease'), ('drug', 'drug', 'drug-drug_musculoskeletal_system_disease'), ('drug', 'drug', 'drug-drug_nervous_system_disease'), ('drug', 'drug', 'drug-drug_orofacial_cleft'), ('drug', 'drug', 'drug-drug_parasitic_infectious_disease'), ('drug', 'drug', 'drug-drug_personality_disorder'), ('drug', 'drug', 'drug-drug_polycystic_ovary_syndrome'), ('drug', 'drug', 'drug-drug_pre-malignant_neoplasm'), ('drug', 'drug', 'drug-drug_psoriatic_arthritis'), ('drug', 'drug', 'drug-drug_reproductive_system_disease'), ('drug', 'drug', 'drug-drug_respiratory_system_disease'), ('drug', 'drug', 'drug-drug_sexual_disorder'), ('drug', 'drug', 'drug-drug_sleep_disorder'), ('drug', 'drug', 'drug-drug_somatoform_disorder'), ('drug', 'drug', 'drug-drug_struct_sim'), ('drug', 'drug', 'drug-drug_substance-related_disorder'), ('drug', 'drug', 'drug-drug_thoracic_disease'), ('drug', 'drug', 'drug-drug_urinary_system_disease'), ('drug', 'drug', 'drug-drug_viral_infectious_disease'), ('drug', 'protein', 'drug-protein'), ('drug', 'sideeffect', 'drug-sideeffect'), ('function', 'function', 'function-function')])\n",
      "Loading necessary files...\n",
      "This might take a while.\n"
     ]
    },
    {
     "name": "stderr",
     "output_type": "stream",
     "text": [
      "Processing...\n"
     ]
    },
    {
     "name": "stdout",
     "output_type": "stream",
     "text": [
      "Processing graphs...\n"
     ]
    },
    {
     "name": "stderr",
     "output_type": "stream",
     "text": [
      "100%|████████████████████████████████████████████████████████████████████████████████████████████████████████████████████████████████████████████████████| 1/1 [00:00<00:00, 1825.20it/s]\n"
     ]
    },
    {
     "name": "stdout",
     "output_type": "stream",
     "text": [
      "Converting graphs into PyG objects...\n"
     ]
    },
    {
     "name": "stderr",
     "output_type": "stream",
     "text": [
      "100%|████████████████████████████████████████████████████████████████████████████████████████████████████████████████████████████████████████████████████| 1/1 [00:00<00:00, 1300.16it/s]"
     ]
    },
    {
     "name": "stdout",
     "output_type": "stream",
     "text": [
      "Saving...\n"
     ]
    },
    {
     "name": "stderr",
     "output_type": "stream",
     "text": [
      "\n",
      "Done!\n"
     ]
    },
    {
     "name": "stdout",
     "output_type": "stream",
     "text": [
      "PygLinkPropPredDataset()\n"
     ]
    }
   ],
   "source": [
    "# DGL Loader\n",
    "from ogb.linkproppred import DglLinkPropPredDataset\n",
    "dataset = DglLinkPropPredDataset(name ='ogbl-biokg')\n",
    "split_edge = dataset.get_edge_split()\n",
    "train_edge, valid_edge, test_edge = split_edge[\"train\"], split_edge[\"valid\"], split_edge[\"test\"]\n",
    "graph = dataset[0] # dgl graph object containing only training edges\n",
    "print(graph)\n",
    "#print(graph.ndata)\n",
    "#print(graph.edata)\n",
    "#print(graph.ndata['feat'].size())\n",
    "\n",
    "# Pytorch Geometric Loader\n",
    "from ogb.linkproppred import PygLinkPropPredDataset\n",
    "dataset = PygLinkPropPredDataset(name = 'ogbl-biokg') \n",
    "split_edge = dataset.get_edge_split()\n",
    "train_edge, valid_edge, test_edge = split_edge[\"train\"], split_edge[\"valid\"], split_edge[\"test\"]\n",
    "graph = dataset[0] # pyg graph object containing only training edges\n",
    "print(dataset)\n"
   ]
  },
  {
   "cell_type": "code",
   "execution_count": null,
   "metadata": {},
   "outputs": [],
   "source": []
  }
 ],
 "metadata": {
  "kernelspec": {
   "display_name": "Python 3 (ipykernel)",
   "language": "python",
   "name": "python3"
  },
  "language_info": {
   "codemirror_mode": {
    "name": "ipython",
    "version": 3
   },
   "file_extension": ".py",
   "mimetype": "text/x-python",
   "name": "python",
   "nbconvert_exporter": "python",
   "pygments_lexer": "ipython3",
   "version": "3.8.16"
  }
 },
 "nbformat": 4,
 "nbformat_minor": 1
}
