{
 "cells": [
  {
   "cell_type": "markdown",
   "metadata": {},
   "source": [
    "# Lab 01 : Introduction to Graphs with DGL, NetworkX, PyTorch\n",
    "\n",
    "\n",
    "\n",
    "### Xavier Bresson  \n",
    " \n",
    "<br>\n",
    "Notebook goals :<br>  \n",
    "• Build a graph with Deep Graph Library (DGL) [1] <br>  \n",
    "• Compute a message-passing function with DGL <br>  \n",
    "• Create a batch of DGL graphs <br>  \n",
    "• Convert DGL graph to NetworkX graph for visualization w/ balanced springs system [2] <br> \n",
    "• Convert DGL graph to PyTorch graph for visualization w/ Laplacian eigenvectors [3] <br>\n",
    "• Conversions between DGL, NetworkX, (dense and sparse) PyTorch graphs <br><br>  \n",
    "\n",
    "[1] Wang et-al, Deep graph library: A graph-centric, highly-performant package for graph neural networks, 2019  \n",
    "https://www.dgl.ai  \n",
    "[2] Kamada, Kawai, An algorithm for drawing general undirected graphs, 1989  \n",
    "https://shorturl.at/fpDV2    \n",
    "[3] Belkin, Niyogi,Laplacian eigenmaps for dimensionality reduction and data representation, 2003  \n",
    "http://graphics.stanford.edu/courses/cs233-20-spring/ReferencedPapers/Laplacian.pdf\n"
   ]
  },
  {
   "cell_type": "code",
   "execution_count": 1,
   "metadata": {},
   "outputs": [],
   "source": [
    "# For Google Colaboratory\n",
    "import sys, os\n",
    "if 'google.colab' in sys.modules:\n",
    "    # mount google drive\n",
    "    from google.colab import drive\n",
    "    drive.mount('/content/gdrive')\n",
    "    path_to_file = '/content/gdrive/My Drive/GML_May23_codes/codes/05_Graph_Convnets'\n",
    "    print(path_to_file)\n",
    "    # change current path to the folder containing \"path_to_file\"\n",
    "    os.chdir(path_to_file)\n",
    "    !pwd\n",
    "    !pip install dgl==1.0.0 # Install DGL\n",
    "    "
   ]
  },
  {
   "cell_type": "code",
   "execution_count": 2,
   "metadata": {},
   "outputs": [],
   "source": [
    "# Libraries\n",
    "import dgl\n",
    "import networkx as nx\n",
    "import matplotlib.pyplot as plt\n",
    "import torch\n",
    "from torch.utils.data import DataLoader\n",
    "from utils import compute_LapEig\n"
   ]
  },
  {
   "cell_type": "markdown",
   "metadata": {},
   "source": [
    "# Create a cycle graph of 7 nodes with DGL"
   ]
  },
  {
   "cell_type": "code",
   "execution_count": 3,
   "metadata": {},
   "outputs": [
    {
     "name": "stdout",
     "output_type": "stream",
     "text": [
      "[[0, 1, 2, 3, 4, 5, 6], [1, 2, 3, 4, 5, 6, 0]]\n",
      "Graph(num_nodes=7, num_edges=14,\n",
      "      ndata_schemes={}\n",
      "      edata_schemes={})\n"
     ]
    }
   ],
   "source": [
    "list_src = []\n",
    "list_dst = []\n",
    "num_nodes = 7\n",
    "for i in range(num_nodes):\n",
    "    list_src.append(i)\n",
    "    list_dst.append((i+1)%num_nodes) \n",
    "print([list_src,list_dst])\n",
    "\n",
    "# create DGL graph\n",
    "graph_dgl = dgl.graph((list_src, list_dst))\n",
    "graph_dgl = dgl.to_bidirected(graph_dgl) # symmetrize/undirected graph\n",
    "print(graph_dgl)\n"
   ]
  },
  {
   "cell_type": "markdown",
   "metadata": {},
   "source": [
    "# Add node and edge features to the DGL graph"
   ]
  },
  {
   "cell_type": "code",
   "execution_count": 4,
   "metadata": {},
   "outputs": [
    {
     "name": "stdout",
     "output_type": "stream",
     "text": [
      "Graph(num_nodes=7, num_edges=14,\n",
      "      ndata_schemes={'feat': Scheme(shape=(1,), dtype=torch.float32)}\n",
      "      edata_schemes={'feat': Scheme(shape=(100,), dtype=torch.float32)})\n"
     ]
    }
   ],
   "source": [
    "graph_dgl.ndata['feat'] = graph_dgl.in_degrees().view(-1, 1).float() # node in-degree\n",
    "graph_dgl.edata['feat'] = torch.rand(graph_dgl.num_edges(), 100) # random features\n",
    "print(graph_dgl)\n"
   ]
  },
  {
   "cell_type": "markdown",
   "metadata": {},
   "source": [
    "# Run a message-passing function with DGL"
   ]
  },
  {
   "cell_type": "code",
   "execution_count": 5,
   "metadata": {},
   "outputs": [
    {
     "name": "stdout",
     "output_type": "stream",
     "text": [
      "hi torch.Size([14, 1])\n",
      "eji torch.Size([14, 100])\n",
      "hi torch.Size([7, 1])\n",
      "hj torch.Size([7, 2, 1])\n",
      "eji torch.Size([7, 2, 100])\n",
      "h torch.Size([7, 100])\n"
     ]
    }
   ],
   "source": [
    "# Step 1 of message-passing with DGL\n",
    "#   Node feature and edge features are passed along edges (src/j => dst/i) \n",
    "def message_func(edges):\n",
    "    hi = edges.dst['feat'] # hi with i/dst, size=(E,d=1), E=num_edges\n",
    "    print('hi',hi.size())\n",
    "    hj = edges.src['feat'] # hj with j/src, size=(E,d=1)\n",
    "    eji = edges.data['feat']# eji from src/j to dst/i, size=(E,d=100)\n",
    "    print('eji',eji.size())\n",
    "    edges.data['feat'] = 2 * edges.data['feat'] # update edge feature value\n",
    "    return {'hj' : hj, 'eji' : eji} # send message={hj, eji} to node dst/i\n",
    "\n",
    "# Step 2 of message-passing with DGL:\n",
    "#   Reduce function collects all messages={hj, eji} sent to node dst/i with Step 1\n",
    "def reduce_func(nodes):\n",
    "    hi = nodes.data['feat'] # size=(N,d=1), N=num_nodes\n",
    "    print('hi',hi.size())\n",
    "    hj = nodes.mailbox['hj'] # size=(N,|Nj|,d=1), |Nj|=num_neighbors\n",
    "    print('hj',hj.size())\n",
    "    eji = nodes.mailbox['eji'] # size=(N,|Nj|,d=100), |Nj|=num_neighbors\n",
    "    print('eji',eji.size())\n",
    "    h = hi + torch.sum( eji * hj, dim=1 ) # hi = hi + sum_j eta_ji * hj, size=(N,d=100) \n",
    "    print('h',h.size())\n",
    "    return {'h' : h} # return update node feature hi\n",
    "\n",
    "graph_dgl.update_all(message_func,reduce_func) # update the node and edge features with DGL\n"
   ]
  },
  {
   "cell_type": "markdown",
   "metadata": {},
   "source": [
    "# Create a batch of (two) DGL graphs"
   ]
  },
  {
   "cell_type": "code",
   "execution_count": 6,
   "metadata": {},
   "outputs": [
    {
     "name": "stdout",
     "output_type": "stream",
     "text": [
      "g1, label1 Graph(num_nodes=8, num_edges=13,\n",
      "      ndata_schemes={'feat': Scheme(shape=(1,), dtype=torch.float32)}\n",
      "      edata_schemes={'feat': Scheme(shape=(100,), dtype=torch.float32)}) tensor(0)\n",
      "g2, label2 Graph(num_nodes=16, num_edges=28,\n",
      "      ndata_schemes={'feat': Scheme(shape=(1,), dtype=torch.float32)}\n",
      "      edata_schemes={'feat': Scheme(shape=(100,), dtype=torch.float32)}) tensor(1)\n",
      "trainset [[Graph(num_nodes=8, num_edges=13,\n",
      "      ndata_schemes={'feat': Scheme(shape=(1,), dtype=torch.float32)}\n",
      "      edata_schemes={'feat': Scheme(shape=(100,), dtype=torch.float32)}), tensor(0)], [Graph(num_nodes=16, num_edges=28,\n",
      "      ndata_schemes={'feat': Scheme(shape=(1,), dtype=torch.float32)}\n",
      "      edata_schemes={'feat': Scheme(shape=(100,), dtype=torch.float32)}), tensor(1)]]\n",
      "batch_graphs Graph(num_nodes=24, num_edges=41,\n",
      "      ndata_schemes={'feat': Scheme(shape=(1,), dtype=torch.float32)}\n",
      "      edata_schemes={'feat': Scheme(shape=(100,), dtype=torch.float32)})\n",
      "batch_labels tensor([1, 0])\n",
      "batch_x: torch.Size([24, 1])\n",
      "batch_e: torch.Size([41, 100])\n"
     ]
    }
   ],
   "source": [
    "# generate two DGL graphs\n",
    "list_src = torch.randperm(8).tolist()\n",
    "list_dst = torch.randperm(8).tolist()\n",
    "graph_dgl = dgl.graph((list_src, list_dst))\n",
    "graph_dgl = dgl.to_bidirected(graph_dgl)\n",
    "graph_dgl.ndata['feat'] = graph_dgl.in_degrees().view(-1, 1).float() # node in-degree\n",
    "graph_dgl.edata['feat'] = torch.rand(graph_dgl.num_edges(), 100) # random features\n",
    "g1 = graph_dgl\n",
    "label1 = torch.tensor(0).long()\n",
    "print('g1, label1', g1, label1)\n",
    "list_src = torch.randperm(16).tolist()\n",
    "list_dst = torch.randperm(16).tolist()\n",
    "graph_dgl = dgl.graph((list_src, list_dst))\n",
    "graph_dgl = dgl.to_bidirected(graph_dgl)\n",
    "graph_dgl.ndata['feat'] = graph_dgl.in_degrees().view(-1, 1).float() # node in-degree\n",
    "graph_dgl.edata['feat'] = torch.rand(graph_dgl.num_edges(), 100) # random features\n",
    "g2 = graph_dgl\n",
    "label2 = torch.tensor(1).long()\n",
    "print('g2, label2', g2, label2)\n",
    "trainset = [ [g1, label1] , [g2, label2] ]\n",
    "print('trainset', trainset)\n",
    "\n",
    "# collate function prepares a batch of graphs, labels and other graph features (if needed)\n",
    "def collate(samples):\n",
    "    # Input sample is a list of pairs (graph, label)\n",
    "    graphs, labels = map(list, zip(*samples))\n",
    "    batch_graphs = dgl.batch(graphs)    # batch of graphs\n",
    "    batch_labels = torch.tensor(labels) # batch of labels \n",
    "    return batch_graphs, batch_labels\n",
    "\n",
    "# Generate a batch of graphs\n",
    "batch_size = 2\n",
    "train_loader = DataLoader(trainset, batch_size=batch_size, shuffle=True, collate_fn=collate)\n",
    "batch_graphs, batch_labels = list(train_loader)[0]\n",
    "print('batch_graphs', batch_graphs)\n",
    "print('batch_labels', batch_labels)\n",
    "batch_x = batch_graphs.ndata['feat']\n",
    "print('batch_x:',batch_x.size())\n",
    "batch_e = batch_graphs.edata['feat']\n",
    "print('batch_e:',batch_e.size())\n"
   ]
  },
  {
   "cell_type": "markdown",
   "metadata": {},
   "source": [
    "# Convert DGL graph to NetworkX graph"
   ]
  },
  {
   "cell_type": "code",
   "execution_count": 7,
   "metadata": {},
   "outputs": [],
   "source": [
    "# build dgl graph\n",
    "list_src = []\n",
    "list_dst = []\n",
    "num_nodes = 7\n",
    "for i in range(num_nodes):\n",
    "    list_src.append(i)\n",
    "    list_dst.append((i+1)%num_nodes) \n",
    "graph_dgl = dgl.graph((list_src, list_dst))\n",
    "graph_dgl = dgl.to_bidirected(graph_dgl)\n",
    "\n",
    "# dgl => networkx\n",
    "graph_nx = graph_dgl.to_networkx() \n"
   ]
  },
  {
   "cell_type": "markdown",
   "metadata": {},
   "source": [
    "# Visualise graph with NetworkX"
   ]
  },
  {
   "cell_type": "code",
   "execution_count": 8,
   "metadata": {},
   "outputs": [
    {
     "data": {
      "image/png": "[encoded data removed]",
      "text/plain": [
       "<Figure size 640x480 with 1 Axes>"
      ]
     },
     "metadata": {},
     "output_type": "display_data"
    }
   ],
   "source": [
    "fig = plt.figure()\n",
    "ax = fig.add_subplot(111)\n",
    "nx.draw(graph_nx, ax=ax, with_labels=True, font_size=10) # visualise node indexes\n",
    "ax.title.set_text('Graph visualization with networkx')\n",
    "plt.show()\n"
   ]
  },
  {
   "cell_type": "markdown",
   "metadata": {},
   "source": [
    "# Visualise graph with eigenvectors (i.e. map graph to Euclidean space)"
   ]
  },
  {
   "cell_type": "code",
   "execution_count": 9,
   "metadata": {},
   "outputs": [
    {
     "data": {
      "image/png": "[encoded data removed]",
      "text/plain": [
       "<Figure size 640x480 with 1 Axes>"
      ]
     },
     "metadata": {},
     "output_type": "display_data"
    }
   ],
   "source": [
    "fig = plt.figure()\n",
    "ax = fig.add_subplot(111)\n",
    "x = compute_LapEig(graph_dgl, 2)\n",
    "ax.scatter(x[:,0], x[:,1])\n",
    "idx = list(range(graph_dgl.number_of_nodes()))\n",
    "for i, txt in enumerate(idx):\n",
    "    ax.annotate(txt, (x[:,0][i], x[:,1][i]), textcoords=\"offset points\", xytext=(1,5))\n",
    "ax.title.set_text('2D embedding of nodes')\n",
    "plt.show()\n"
   ]
  },
  {
   "cell_type": "markdown",
   "metadata": {},
   "source": [
    "# Convert DGL graph to PyTorch tensor"
   ]
  },
  {
   "cell_type": "code",
   "execution_count": 10,
   "metadata": {},
   "outputs": [
    {
     "name": "stdout",
     "output_type": "stream",
     "text": [
      "tensor([[0., 1., 0., 0., 0., 0., 1.],\n",
      "        [1., 0., 1., 0., 0., 0., 0.],\n",
      "        [0., 1., 0., 1., 0., 0., 0.],\n",
      "        [0., 0., 1., 0., 1., 0., 0.],\n",
      "        [0., 0., 0., 1., 0., 1., 0.],\n",
      "        [0., 0., 0., 0., 1., 0., 1.],\n",
      "        [1., 0., 0., 0., 0., 1., 0.]])\n"
     ]
    }
   ],
   "source": [
    "graph_pytorch = graph_dgl.adj().to_dense() \n",
    "print(graph_pytorch)\n"
   ]
  },
  {
   "cell_type": "markdown",
   "metadata": {},
   "source": [
    "# All type convertors\n",
    "\n",
    "NetworkX  \n",
    "https://networkx.org/documentation/stable/reference/convert.html\n",
    "\n",
    "Sparse PyTorch  \n",
    "https://pytorch.org/docs/stable/sparse.html\n",
    "\n",
    "DGL   \n",
    "https://docs.dgl.ai/api/python/dgl.sparse_v0.html#sparse-matrix-class"
   ]
  },
  {
   "cell_type": "code",
   "execution_count": 11,
   "metadata": {},
   "outputs": [
    {
     "name": "stdout",
     "output_type": "stream",
     "text": [
      "# dgl\n",
      " Graph(num_nodes=7, num_edges=14,\n",
      "      ndata_schemes={}\n",
      "      edata_schemes={}) <class 'dgl.heterograph.DGLGraph'>\n",
      "\n",
      "\n",
      "# dgl => networkx\n",
      " MultiDiGraph with 7 nodes and 14 edges <class 'networkx.classes.multidigraph.MultiDiGraph'>\n",
      "\n",
      "\n",
      "# networkx => dgl\n",
      " Graph(num_nodes=7, num_edges=14,\n",
      "      ndata_schemes={}\n",
      "      edata_schemes={}) <class 'dgl.heterograph.DGLGraph'>\n",
      "Note: Node and edge features must be re-generated!\n",
      "\n",
      "\n",
      "# networkx => (coo) sparse pytorch\n",
      " tensor(indices=tensor([[0, 0, 1, 1, 2, 2, 3, 3, 4, 4, 5, 5, 6, 6],\n",
      "                       [1, 6, 0, 2, 1, 3, 2, 4, 3, 5, 4, 6, 0, 5]]),\n",
      "       values=tensor([1, 1, 1, 1, 1, 1, 1, 1, 1, 1, 1, 1, 1, 1]),\n",
      "       size=(7, 7), nnz=14, layout=torch.sparse_coo) <class 'torch.Tensor'>\n",
      "\n",
      "\n",
      "# (coo) sparse pytorch => networkx\n",
      " Graph with 7 nodes and 7 edges <class 'networkx.classes.graph.Graph'>\n",
      "\n",
      "\n",
      "# (coo) sparse pytorch => dense pytorch\n",
      " tensor([[0, 1, 0, 0, 0, 0, 1],\n",
      "        [1, 0, 1, 0, 0, 0, 0],\n",
      "        [0, 1, 0, 1, 0, 0, 0],\n",
      "        [0, 0, 1, 0, 1, 0, 0],\n",
      "        [0, 0, 0, 1, 0, 1, 0],\n",
      "        [0, 0, 0, 0, 1, 0, 1],\n",
      "        [1, 0, 0, 0, 0, 1, 0]]) <class 'torch.Tensor'>\n",
      "\n",
      "\n",
      "# dense pytorch => (coo) sparse pytorch\n",
      " tensor(indices=tensor([[0, 0, 1, 1, 2, 2, 3, 3, 4, 4, 5, 5, 6, 6],\n",
      "                       [1, 6, 0, 2, 1, 3, 2, 4, 3, 5, 4, 6, 0, 5]]),\n",
      "       values=tensor([1, 1, 1, 1, 1, 1, 1, 1, 1, 1, 1, 1, 1, 1]),\n",
      "       size=(7, 7), nnz=14, layout=torch.sparse_coo) <class 'torch.Tensor'>\n",
      "\n",
      "\n",
      "# dgl => (coo) sparse pytorch\n",
      " tensor(indices=tensor([[0, 0, 1, 1, 2, 2, 3, 3, 4, 4, 5, 5, 6, 6],\n",
      "                       [1, 6, 0, 2, 1, 3, 2, 4, 3, 5, 4, 6, 0, 5]]),\n",
      "       values=tensor([1., 1., 1., 1., 1., 1., 1., 1., 1., 1., 1., 1., 1., 1.]),\n",
      "       size=(7, 7), nnz=14, layout=torch.sparse_coo) <class 'torch.Tensor'>\n",
      "\n",
      "\n",
      "# dgl => dense pytorch\n",
      " tensor([[0., 1., 0., 0., 0., 0., 1.],\n",
      "        [1., 0., 1., 0., 0., 0., 0.],\n",
      "        [0., 1., 0., 1., 0., 0., 0.],\n",
      "        [0., 0., 1., 0., 1., 0., 0.],\n",
      "        [0., 0., 0., 1., 0., 1., 0.],\n",
      "        [0., 0., 0., 0., 1., 0., 1.],\n",
      "        [1., 0., 0., 0., 0., 1., 0.]]) <class 'torch.Tensor'>\n",
      "\n",
      "\n"
     ]
    }
   ],
   "source": [
    "# dgl\n",
    "print('# dgl\\n',graph_dgl, type(graph_dgl)); print('\\n')\n",
    "\n",
    "# dgl => networkx\n",
    "graph_nx = graph_dgl.to_networkx() \n",
    "print('# dgl => networkx\\n',graph_nx, type(graph_nx)); print('\\n')\n",
    "\n",
    "# networkx => dgl\n",
    "graph_dgl = dgl.from_networkx(graph_nx)\n",
    "print('# networkx => dgl\\n',graph_dgl, type(graph_dgl))\n",
    "print('Note: Node and edge features must be re-generated!'); print('\\n')\n",
    "\n",
    "# networkx => (coo) sparse pytorch\n",
    "# Note: edges in sparse pytorch are structured as [ list_src, list_dst ]\n",
    "src=[]; dst=[]; [(src.append(edge[0]), dst.append(edge[1])) for edge in nx.to_edgelist(graph_nx)] # extract list of edges\n",
    "graph_sptorch = torch.sparse_coo_tensor([src, dst], [1]*len(src), size=(num_nodes,num_nodes))\n",
    "print('# networkx => (coo) sparse pytorch\\n',graph_sptorch, type(graph_sptorch)); print('\\n')\n",
    "\n",
    "# (coo) sparse pytorch => networkx\n",
    "# Note: edges in networkx are structure as [ list(src,dst) ]\n",
    "indices = graph_sptorch.coalesce().indices()\n",
    "values = graph_sptorch.coalesce().values()\n",
    "src = indices[0].tolist(); dst = indices[1].tolist(); list_edges = [edge for edge in zip(src,dst)]\n",
    "graph_nx = nx.Graph(list_edges) \n",
    "print('# (coo) sparse pytorch => networkx\\n', graph_nx, type(graph_nx)); print('\\n')\n",
    "\n",
    "# (coo) sparse pytorch => dense pytorch\n",
    "graph_pytorch = graph_sptorch.to_dense()\n",
    "print('# (coo) sparse pytorch => dense pytorch\\n', graph_pytorch, type(graph_pytorch)); print('\\n')\n",
    "\n",
    "# dense pytorch => (coo) sparse pytorch\n",
    "graph_sptorch = graph_pytorch.to_sparse()\n",
    "print('# dense pytorch => (coo) sparse pytorch\\n', graph_sptorch, type(graph_sptorch)); print('\\n')\n",
    "\n",
    "# dgl => (coo) sparse pytorch \n",
    "graph_sptorch = graph_dgl.adj()\n",
    "print('# dgl => (coo) sparse pytorch\\n', graph_sptorch, type(graph_sptorch)); print('\\n')\n",
    "\n",
    "# dgl => (coo) sparse pytorch => dense pytorch\n",
    "graph_pytorch = graph_dgl.adj().to_dense() \n",
    "print('# dgl => dense pytorch\\n', graph_pytorch, type(graph_pytorch)); print('\\n')\n",
    "\n"
   ]
  },
  {
   "cell_type": "code",
   "execution_count": null,
   "metadata": {},
   "outputs": [],
   "source": []
  }
 ],
 "metadata": {
  "kernelspec": {
   "display_name": "Python 3 (ipykernel)",
   "language": "python",
   "name": "python3"
  },
  "language_info": {
   "codemirror_mode": {
    "name": "ipython",
    "version": 3
   },
   "file_extension": ".py",
   "mimetype": "text/x-python",
   "name": "python",
   "nbconvert_exporter": "python",
   "pygments_lexer": "ipython3",
   "version": "3.8.16"
  }
 },
 "nbformat": 4,
 "nbformat_minor": 1
}
